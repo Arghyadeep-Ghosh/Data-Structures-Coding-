{
  "nbformat": 4,
  "nbformat_minor": 0,
  "metadata": {
    "colab": {
      "provenance": []
    },
    "kernelspec": {
      "name": "python3",
      "display_name": "Python 3"
    },
    "language_info": {
      "name": "python"
    }
  },
  "cells": [
    {
      "cell_type": "code",
      "execution_count": null,
      "metadata": {
        "id": "9quxtygBPbOX"
      },
      "outputs": [],
      "source": [
        "# Q1) Write a code to reverse a string.\n",
        "\n",
        "string1=input(\"Enter a String\")\n",
        "rev_string1=string1[::-1]\n",
        "print(rev_string1)"
      ]
    },
    {
      "cell_type": "code",
      "source": [
        "# Q2) Write a code to count the number of vowels in a string.\n",
        "\n",
        "string1=input(\"Enter a String \")\n",
        "vowels=0\n",
        "for i in string1:\n",
        "  if(i=='a' or i=='e' or i=='i' or i=='o' or i=='u' or i=='A' or i=='E' or i=='I' or i=='O' or i=='U'):\n",
        "    vowels+=1\n",
        "print(\"The number of vowels = \",vowels)\n"
      ],
      "metadata": {
        "id": "sxXFyInwQwzW"
      },
      "execution_count": null,
      "outputs": []
    },
    {
      "cell_type": "code",
      "source": [
        "# Q3) Write a code to check if a given string is a palindrome or not.\n",
        "\n",
        "string1=input(\"Enter a string \")\n",
        "rev_string1=string1[::-1]\n",
        "if(string1==rev_string1):\n",
        "  print(\"It is a Palindrome\")\n",
        "else:\n",
        "  print(\"It is not a Palindrome\")\n"
      ],
      "metadata": {
        "id": "EpFrs-pGS7F0"
      },
      "execution_count": null,
      "outputs": []
    },
    {
      "cell_type": "code",
      "source": [
        "# Q5) Write a code to check if two given strings are anagrams of each other.\n",
        "\n",
        "string1=input(\"Enter a string \")\n",
        "string2=input(\"Enter a string \")\n",
        "if(sorted(string1)==sorted(string2)):\n",
        "  print(\"It is an Anagram\")\n",
        "else:\n",
        "  print(\"It is not an Anagram\")\n"
      ],
      "metadata": {
        "id": "jK2t0VXfUEZD"
      },
      "execution_count": null,
      "outputs": []
    },
    {
      "cell_type": "code",
      "source": [
        "# Q5) Write a code to find all occurrences of a given substring within another string.\n",
        "\n",
        "main_string = input(\"Enter the main string: \")\n",
        "substring = input(\"Enter the substring to find: \")\n",
        "\n",
        "index = 0\n",
        "while index < len(main_string):\n",
        "    index = main_string.find(substring, index)\n",
        "    if index == -1:\n",
        "        break\n",
        "    print(\"Found at index:\", index)\n",
        "    index += 1  # Move to the next position to find subsequent occurrences\n",
        "\n",
        "\n"
      ],
      "metadata": {
        "id": "P9FTDEqnNqIz"
      },
      "execution_count": null,
      "outputs": []
    },
    {
      "cell_type": "code",
      "source": [
        "# Q6) Write a code to perform basic string compression using the counts of repeated characters.\n",
        "\n",
        "input_string = input(\"Enter a string: \")\n",
        "\n",
        "compressed_string = \"\"\n",
        "count = 1\n",
        "\n",
        "for i in range(len(input_string) - 1):\n",
        "    if input_string[i] == input_string[i + 1]:\n",
        "        count += 1\n",
        "    else:\n",
        "        compressed_string += input_string[i] + str(count)\n",
        "        count = 1\n",
        "\n",
        "compressed_string += input_string[-1] + str(count)\n",
        "\n",
        "print(\"Compressed string:\", compressed_string)\n"
      ],
      "metadata": {
        "id": "QyYXE1onPFNU"
      },
      "execution_count": null,
      "outputs": []
    },
    {
      "cell_type": "code",
      "source": [
        "# Q7)  Write a code to determine if a string has all unique characters.\n",
        "\n",
        "input_string = input(\"Enter a string: \")\n",
        "\n",
        "is_unique = True\n",
        "\n",
        "for i in range(len(input_string)):\n",
        "    for j in range(i + 1, len(input_string)):\n",
        "        if input_string[i] == input_string[j]:\n",
        "            is_unique = False\n",
        "            break\n",
        "    if not is_unique:\n",
        "        break\n",
        "\n",
        "if is_unique:\n",
        "    print(\"All characters in the string are unique.\")\n",
        "else:\n",
        "    print(\"The string has duplicate characters.\")\n"
      ],
      "metadata": {
        "id": "pPoY1esGQMGQ"
      },
      "execution_count": null,
      "outputs": []
    },
    {
      "cell_type": "code",
      "source": [
        "# Q8) Write a code to convert a given string to upper case or lower case.\n",
        "\n",
        "input_string = input(\"Enter a string: \")\n",
        "choice = input(\"Type 'U' to convert to uppercase or 'L' to convert to lowercase: \")\n",
        "\n",
        "if choice == 'U':\n",
        "    converted_string = input_string.upper()\n",
        "elif choice == 'L':\n",
        "    converted_string = input_string.lower()\n",
        "else:\n",
        "    converted_string = \"Invalid choice!\"\n",
        "\n",
        "print(\"Converted string:\", converted_string)\n"
      ],
      "metadata": {
        "id": "9Aucn0xPQqnD"
      },
      "execution_count": null,
      "outputs": []
    },
    {
      "cell_type": "code",
      "source": [
        "# Q9) Write a code to count the number of words in a string.\n",
        "\n",
        "input_string = input(\"Enter a string: \")\n",
        "\n",
        "word_count = 1  # Start with 1 because the last word won't be followed by a space\n",
        "\n",
        "for char in input_string:\n",
        "    if char == ' ':\n",
        "        word_count += 1\n",
        "\n",
        "print(\"Number of words in the string:\", word_count)\n",
        "\n"
      ],
      "metadata": {
        "id": "lgtq2mvWRTVu"
      },
      "execution_count": null,
      "outputs": []
    },
    {
      "cell_type": "code",
      "source": [
        "# Q10) Write a code to concatenate two strings without using the + operator.\n",
        "string1 = input(\"Enter the first string: \")\n",
        "string2 = input(\"Enter the second string: \")\n",
        "\n",
        "concatenated_string = \"\"\n",
        "\n",
        "for char in string1:\n",
        "    concatenated_string += char\n",
        "\n",
        "for char in string2:\n",
        "    concatenated_string += char\n",
        "\n",
        "print(\"Concatenated string:\", concatenated_string)\n"
      ],
      "metadata": {
        "id": "F4uWrerdSCUe"
      },
      "execution_count": null,
      "outputs": []
    },
    {
      "cell_type": "code",
      "source": [
        "# Q11) Write a code to remove all occurrences of a specific element from a list.\n",
        "\n",
        "# Input the list\n",
        "input_list = input(\"Enter a list of elements separated by space: \").split()\n",
        "element_to_remove = input(\"Enter the element to remove: \")\n",
        "\n",
        "# Convert element_to_remove to string if it's numeric input\n",
        "if element_to_remove.isdigit():\n",
        "    element_to_remove = str(element_to_remove)\n",
        "\n",
        "# Create a new list to store elements that are not removed\n",
        "result_list = []\n",
        "\n",
        "# Iterate through the input list and add elements that are not equal to element_to_remove\n",
        "for item in input_list:\n",
        "    if item != element_to_remove:\n",
        "        result_list.append(item)\n",
        "\n",
        "print(\"List after removal:\", result_list)\n"
      ],
      "metadata": {
        "id": "3-2wbuakSb2j"
      },
      "execution_count": null,
      "outputs": []
    },
    {
      "cell_type": "code",
      "source": [
        "# Q12) Implement a code to find the second largest number in a given list of integers.\n",
        "\n",
        "# Input the list of integers\n",
        "input_list = list(map(int, input(\"Enter a list of integers separated by space: \").split()))\n",
        "\n",
        "# Initialize the largest and second largest variables\n",
        "largest = second_largest = float('-inf')\n",
        "\n",
        "# Iterate through the list to find the largest and second largest numbers\n",
        "for number in input_list:\n",
        "    if number > largest:\n",
        "        second_largest = largest\n",
        "        largest = number\n",
        "    elif number > second_largest and number != largest:\n",
        "        second_largest = number\n",
        "\n",
        "if second_largest == float('-inf'):\n",
        "    print(\"There is no second largest number.\")\n",
        "else:\n",
        "    print(\"The second largest number is:\", second_largest)\n"
      ],
      "metadata": {
        "id": "LBLGwLZ7S2Fl"
      },
      "execution_count": null,
      "outputs": []
    },
    {
      "cell_type": "code",
      "source": [
        "# Q13) Create a code to count the occurrences of each element in a list and return a dictionary with elements as key and their counts as values.\n",
        "\n",
        "# Input the list of elements\n",
        "input_list = input(\"Enter a list of elements separated by space: \").split()\n",
        "\n",
        "# Initialize an empty dictionary to store counts\n",
        "count_dict = {}\n",
        "\n",
        "# Iterate through the list and count occurrences\n",
        "for element in input_list:\n",
        "    if element in count_dict:\n",
        "        count_dict[element] += 1\n",
        "    else:\n",
        "        count_dict[element] = 1\n",
        "\n",
        "print(\"Occurrences of each element:\", count_dict)\n"
      ],
      "metadata": {
        "id": "Ndt8q8d0TQef"
      },
      "execution_count": null,
      "outputs": []
    },
    {
      "cell_type": "code",
      "source": [
        "# Q14) Write a code to reverse a list in-place without using any built-in reverse function.\n",
        "\n",
        "# Input the list of elements\n",
        "input_list = input(\"Enter a list of elements separated by space: \").split()\n",
        "\n",
        "# Initialize pointers for the start and end of the list\n",
        "start = 0\n",
        "end = len(input_list) - 1\n",
        "\n",
        "# Reverse the list in-place\n",
        "while start < end:\n",
        "    # Swap the elements at start and end\n",
        "    input_list[start], input_list[end] = input_list[end], input_list[start]\n",
        "    # Move pointers towards the center\n",
        "    start += 1\n",
        "    end -= 1\n",
        "\n",
        "print(\"Reversed list:\", input_list)\n",
        "\n",
        "\n"
      ],
      "metadata": {
        "id": "ZJl113UhUVG9"
      },
      "execution_count": null,
      "outputs": []
    },
    {
      "cell_type": "code",
      "source": [
        "# Q15) Implement a code to find and remove duplicates from a list while preserving the original order of the elements.\n",
        "\n",
        "# Input the list of elements\n",
        "input_list = input(\"Enter a list of elements separated by space: \").split()\n",
        "\n",
        "# Initialize an empty list to store unique elements\n",
        "unique_list = []\n",
        "\n",
        "# Initialize a set to keep track of seen elements\n",
        "seen_set = set()\n",
        "\n",
        "# Iterate through the input list\n",
        "for element in input_list:\n",
        "    if element not in seen_set:\n",
        "        unique_list.append(element)\n",
        "        seen_set.add(element)\n",
        "\n",
        "print(\"List after removing duplicates:\", unique_list)\n"
      ],
      "metadata": {
        "id": "RRqF-86XVAlP"
      },
      "execution_count": null,
      "outputs": []
    },
    {
      "cell_type": "code",
      "source": [
        "# Q16) Create a code to check if a given list is sorted (either in ascending or descending order) or not.\n",
        "\n",
        "# Input the list of elements\n",
        "input_list = list(map(int, input(\"Enter a list of integers separated by space: \").split()))\n",
        "\n",
        "# Initialize flags for checking ascending and descending order\n",
        "is_ascending = True\n",
        "is_descending = True\n",
        "\n",
        "# Check if the list is sorted in ascending order\n",
        "for i in range(1, len(input_list)):\n",
        "    if input_list[i] < input_list[i - 1]:\n",
        "        is_ascending = False\n",
        "        break\n",
        "\n",
        "# Check if the list is sorted in descending order\n",
        "for i in range(1, len(input_list)):\n",
        "    if input_list[i] > input_list[i - 1]:\n",
        "        is_descending = False\n",
        "        break\n",
        "\n",
        "if is_ascending:\n",
        "    print(\"The list is sorted in ascending order.\")\n",
        "elif is_descending:\n",
        "    print(\"The list is sorted in descending order.\")\n",
        "else:\n",
        "    print(\"The list is not sorted.\")\n"
      ],
      "metadata": {
        "id": "EWjoLf3qVi8o"
      },
      "execution_count": null,
      "outputs": []
    },
    {
      "cell_type": "code",
      "source": [
        "# Q17) Write a code to merge two sorted lists into a single sorted list.\n",
        "\n",
        "# Input the two sorted lists\n",
        "list1 = list(map(int, input(\"Enter the first sorted list of integers separated by space: \").split()))\n",
        "list2 = list(map(int, input(\"Enter the second sorted list of integers separated by space: \").split()))\n",
        "\n",
        "# Initialize pointers and the merged list\n",
        "i, j = 0, 0\n",
        "merged_list = []\n",
        "\n",
        "# Merge the two lists\n",
        "while i < len(list1) and j < len(list2):\n",
        "    if list1[i] < list2[j]:\n",
        "        merged_list.append(list1[i])\n",
        "        i += 1\n",
        "    else:\n",
        "        merged_list.append(list2[j])\n",
        "        j += 1\n",
        "\n",
        "# Append remaining elements from list1, if any\n",
        "while i < len(list1):\n",
        "    merged_list.append(list1[i])\n",
        "    i += 1\n",
        "\n",
        "# Append remaining elements from list2, if any\n",
        "while j < len(list2):\n",
        "    merged_list.append(list2[j])\n",
        "    j += 1\n",
        "\n",
        "print(\"Merged sorted list:\", merged_list)\n"
      ],
      "metadata": {
        "id": "F0S8loAUWCmX"
      },
      "execution_count": null,
      "outputs": []
    },
    {
      "cell_type": "code",
      "source": [
        "# Q18) ImpIement a code to find the intersection of two given lists.\n",
        "\n",
        "# Input the two lists\n",
        "list1 = list(map(int, input(\"Enter the first list of integers separated by space: \").split()))\n",
        "list2 = list(map(int, input(\"Enter the second list of integers separated by space: \").split()))\n",
        "\n",
        "# Initialize an empty list to store the intersection\n",
        "intersection = []\n",
        "\n",
        "# Find the intersection\n",
        "for item in list1:\n",
        "    if item in list2 and item not in intersection:\n",
        "        intersection.append(item)\n",
        "\n",
        "print(\"Intersection of the two lists:\", intersection)\n"
      ],
      "metadata": {
        "id": "Oce2QzQjWW-o"
      },
      "execution_count": null,
      "outputs": []
    },
    {
      "cell_type": "code",
      "source": [
        "# Q19) Create a code to find the union of two lists without duplicates\n",
        "\n",
        "# Input the two lists\n",
        "list1 = list(map(int, input(\"Enter the first list of integers separated by space: \").split()))\n",
        "list2 = list(map(int, input(\"Enter the second list of integers separated by space: \").split()))\n",
        "\n",
        "# Initialize an empty list to store the union\n",
        "union = []\n",
        "\n",
        "# Add elements from list1 to the union list\n",
        "for item in list1:\n",
        "    if item not in union:\n",
        "        union.append(item)\n",
        "\n",
        "# Add elements from list2 to the union list\n",
        "for item in list2:\n",
        "    if item not in union:\n",
        "        union.append(item)\n",
        "\n",
        "print(\"Union of the two lists:\", union)\n"
      ],
      "metadata": {
        "id": "oaHtTLOrWwSW"
      },
      "execution_count": null,
      "outputs": []
    },
    {
      "cell_type": "code",
      "source": [
        "# Q20) Write a code to shuffle a given list randomly without using any built-in shuffle functions.\n",
        "\n",
        "# Input the list\n",
        "input_list = list(map(int, input(\"Enter a list of integers separated by space: \").split()))\n",
        "\n",
        "# Function to generate a random index between 0 and max_value (inclusive)\n",
        "def random_index(max_value):\n",
        "    import time\n",
        "    # Use current time to create a pseudo-random index\n",
        "    return int((time.time() * 1000) % (max_value + 1))\n",
        "\n",
        "# Shuffle the list using the Fisher-Yates algorithm\n",
        "n = len(input_list)\n",
        "for i in range(n - 1, 0, -1):\n",
        "    j = random_index(i)\n",
        "    # Swap elements at indices i and j\n",
        "    input_list[i], input_list[j] = input_list[j], input_list[i]\n",
        "\n",
        "print(\"Shuffled list:\", input_list)\n"
      ],
      "metadata": {
        "id": "YiwM7fAxW-kp"
      },
      "execution_count": null,
      "outputs": []
    },
    {
      "cell_type": "code",
      "source": [
        "# Q21) Write a code that takes two tuples as input and returns a new tuple containing elements thot are common to both input tuples.\n",
        "\n",
        "# Input the two tuples\n",
        "tuple1 = tuple(map(int, input(\"Enter the first tuple of integers separated by space: \").split()))\n",
        "tuple2 = tuple(map(int, input(\"Enter the second tuple of integers separated by space: \").split()))\n",
        "\n",
        "# Convert tuples to sets to find common elements\n",
        "set1 = set(tuple1)\n",
        "set2 = set(tuple2)\n",
        "\n",
        "# Find intersection of both sets\n",
        "common_elements = set1.intersection(set2)\n",
        "\n",
        "# Convert the set of common elements to a tuple\n",
        "result_tuple = tuple(common_elements)\n",
        "\n",
        "print(\"Common elements in both tuples:\", result_tuple)\n"
      ],
      "metadata": {
        "id": "6vF4CWE1XNqB"
      },
      "execution_count": null,
      "outputs": []
    },
    {
      "cell_type": "code",
      "source": [
        "# Q22) Create a code that prompts the user to enter two sets of integers separated by commas. Then, print the intersection of these two sets.\n",
        "\n",
        "# Input the two sets of integers from the user\n",
        "set1_input = input(\"Enter the first set of integers separated by commas: \")\n",
        "set2_input = input(\"Enter the second set of integers separated by commas: \")\n",
        "\n",
        "# Convert the input strings to sets of integers\n",
        "set1 = set(map(int, set1_input.split(',')))\n",
        "set2 = set(map(int, set2_input.split(',')))\n",
        "\n",
        "# Find the intersection of both sets\n",
        "intersection = set1.intersection(set2)\n",
        "\n",
        "print(\"Intersection of the two sets:\", intersection)\n"
      ],
      "metadata": {
        "id": "Kl72c3xTYSmi"
      },
      "execution_count": null,
      "outputs": []
    },
    {
      "cell_type": "code",
      "source": [
        "# Q23) Write a code to concatenate two tuples. The function should take two tuples as input and return a new tuple containing elements from both input tuples.\n",
        "\n",
        "def concatenate_tuples(tuple1, tuple2):\n",
        "    # Concatenate the two tuples\n",
        "    result_tuple = tuple1 + tuple2\n",
        "    return result_tuple\n",
        "\n",
        "# Input the two tuples\n",
        "tuple1 = tuple(map(int, input(\"Enter the first tuple of integers separated by space: \").split()))\n",
        "tuple2 = tuple(map(int, input(\"Enter the second tuple of integers separated by space: \").split()))\n",
        "\n",
        "# Call the function to concatenate tuples\n",
        "result = concatenate_tuples(tuple1, tuple2)\n",
        "\n",
        "print(\"Concatenated tuple:\", result)\n"
      ],
      "metadata": {
        "id": "Judw_h_3YmHS"
      },
      "execution_count": null,
      "outputs": []
    },
    {
      "cell_type": "code",
      "source": [
        "# Q24) Develop a code that prompts the user to input two sets of strings. Then, print the elements that are present in the first set but not in the second set.\n",
        "\n",
        "# Input the two sets of strings from the user\n",
        "set1_input = input(\"Enter the first set of strings separated by commas: \")\n",
        "set2_input = input(\"Enter the second set of strings separated by commas: \")\n",
        "\n",
        "# Convert the input strings to sets of strings\n",
        "set1 = set(set1_input.split(','))\n",
        "set2 = set(set2_input.split(','))\n",
        "\n",
        "# Find the difference between the two sets\n",
        "difference = set1.difference(set2)\n",
        "\n",
        "print(\"Elements in the first set but not in the second set:\", difference)\n"
      ],
      "metadata": {
        "id": "AB8c5oSCY-IK"
      },
      "execution_count": null,
      "outputs": []
    },
    {
      "cell_type": "code",
      "source": [
        "# Q25) Create a code that takes a tuple and two integers as input. The function should return a new tuple containing elements from the original tuple within the specified range of indices.\n",
        "\n",
        "def extract_range_from_tuple(input_tuple, start_index, end_index):\n",
        "    # Extract elements from the tuple based on the given range of indices\n",
        "    return input_tuple[start_index:end_index]\n",
        "\n",
        "# Input the tuple\n",
        "input_tuple = tuple(map(int, input(\"Enter the tuple of integers separated by space: \").split()))\n",
        "\n",
        "# Input the two indices\n",
        "start_index = int(input(\"Enter the start index: \"))\n",
        "end_index = int(input(\"Enter the end index: \"))\n",
        "\n",
        "# Call the function to get the tuple within the specified range\n",
        "result_tuple = extract_range_from_tuple(input_tuple, start_index, end_index)\n",
        "\n",
        "print(\"Tuple within the specified range of indices:\", result_tuple)\n",
        "\n"
      ],
      "metadata": {
        "id": "thBcmpk3ZhUa"
      },
      "execution_count": null,
      "outputs": []
    },
    {
      "cell_type": "code",
      "source": [
        "# Q26) Write a code that prompts the user to input two sets of characters. Then, print the union of these two sets.\n",
        "\n",
        "# Input the two sets of characters from the user\n",
        "set1_input = input(\"Enter the first set of characters separated by commas: \")\n",
        "set2_input = input(\"Enter the second set of characters separated by commas: \")\n",
        "\n",
        "# Convert the input strings to sets of characters\n",
        "set1 = set(set1_input.split(','))\n",
        "set2 = set(set2_input.split(','))\n",
        "\n",
        "# Find the union of both sets\n",
        "union = set1.union(set2)\n",
        "\n",
        "print(\"Union of the two sets:\", union)\n"
      ],
      "metadata": {
        "id": "gWb0yqDWZ8jS"
      },
      "execution_count": null,
      "outputs": []
    },
    {
      "cell_type": "code",
      "source": [
        "# Q27) Develop a code that takes a tuple of integers as input. The function should return the maximum and minimum values from the tuple using tuple unpacking.\n",
        "\n",
        "def find_max_min(input_tuple):\n",
        "    # Check if the tuple is not empty\n",
        "    if not input_tuple:\n",
        "        return None, None\n",
        "\n",
        "    # Initialize maximum and minimum values\n",
        "    max_value = input_tuple[0]\n",
        "    min_value = input_tuple[0]\n",
        "\n",
        "    # Find maximum and minimum values using tuple unpacking\n",
        "    for value in input_tuple:\n",
        "        if value > max_value:\n",
        "            max_value = value\n",
        "        if value < min_value:\n",
        "            min_value = value\n",
        "\n",
        "    return max_value, min_value\n",
        "\n",
        "# Input the tuple\n",
        "input_tuple = tuple(map(int, input(\"Enter a tuple of integers separated by space: \").split()))\n",
        "\n",
        "# Call the function to find the maximum and minimum values\n",
        "max_value, min_value = find_max_min(input_tuple)\n",
        "\n",
        "print(f\"Maximum value: {max_value}\")\n",
        "print(f\"Minimum value: {min_value}\")\n",
        "\n"
      ],
      "metadata": {
        "id": "1XdFz4XLaYYu"
      },
      "execution_count": null,
      "outputs": []
    },
    {
      "cell_type": "code",
      "source": [
        "# Q28) Create a code that defines two sets of integers. Then, print the union, intersection, and difference of these two sets.\n",
        "\n",
        "# Define two sets of integers\n",
        "set1 = {1, 2, 3, 4, 5}\n",
        "set2 = {4, 5, 6, 7, 8}\n",
        "\n",
        "# Calculate union, intersection, and difference\n",
        "union_set = set1.union(set2)\n",
        "intersection_set = set1.intersection(set2)\n",
        "difference_set = set1.difference(set2)\n",
        "\n",
        "# Print the results\n",
        "print(\"Union of the two sets:\", union_set)\n",
        "print(\"Intersection of the two sets:\", intersection_set)\n",
        "print(\"Difference of the two sets (elements in set1 but not in set2):\", difference_set)\n",
        "\n"
      ],
      "metadata": {
        "id": "32Vx9Tu1a5Yl"
      },
      "execution_count": null,
      "outputs": []
    },
    {
      "cell_type": "code",
      "source": [
        "# Q29) Write a code that takes a tuple and on element as input. The function should return the count of occurrences of the given element in the tuple.\n",
        "\n",
        "def count_occurrences(input_tuple, element):\n",
        "    # Count occurrences of the given element in the tuple\n",
        "    return input_tuple.count(element)\n",
        "\n",
        "# Input the tuple\n",
        "input_tuple = tuple(map(int, input(\"Enter a tuple of integers separated by space: \").split()))\n",
        "\n",
        "# Input the element to count\n",
        "element = int(input(\"Enter the element to count: \"))\n",
        "\n",
        "# Call the function to get the count of occurrences\n",
        "count = count_occurrences(input_tuple, element)\n",
        "\n",
        "print(f\"The element {element} occurs {count} times in the tuple.\")\n",
        "\n",
        "\n"
      ],
      "metadata": {
        "id": "RJB7eL43bMZr"
      },
      "execution_count": null,
      "outputs": []
    },
    {
      "cell_type": "code",
      "source": [
        "# Q30) Develop a code that prompts the user to input two sets of strings. Then, print the symmetric difference of these two sets.\n",
        "\n",
        "# Input the two sets of strings from the user\n",
        "set1_input = input(\"Enter the first set of strings separated by commas: \")\n",
        "set2_input = input(\"Enter the second set of strings separated by commas: \")\n",
        "\n",
        "# Convert the input strings to sets of strings\n",
        "set1 = set(set1_input.split(','))\n",
        "set2 = set(set2_input.split(','))\n",
        "\n",
        "# Find the symmetric difference of both sets\n",
        "symmetric_difference = set1.symmetric_difference(set2)\n",
        "\n",
        "print(\"Symmetric difference of the two sets:\", symmetric_difference)\n"
      ],
      "metadata": {
        "id": "baxrHuL6bheq"
      },
      "execution_count": null,
      "outputs": []
    },
    {
      "cell_type": "code",
      "source": [
        "# Q31) Write a code that takes a list of words as input\treturn\tdictionary where the\tkeys are unique woeds and the values are the frequencies of those words\tin the input list.\n",
        "\n",
        "def word_frequencies(word_list):\n",
        "    # Initialize an empty dictionary to store word frequencies\n",
        "    frequency_dict = {}\n",
        "\n",
        "    # Iterate over each word in the list\n",
        "    for word in word_list:\n",
        "        # If the word is already in the dictionary, increment its count\n",
        "        if word in frequency_dict:\n",
        "            frequency_dict[word] += 1\n",
        "        # Otherwise, add the word to the dictionary with a count of 1\n",
        "        else:\n",
        "            frequency_dict[word] = 1\n",
        "\n",
        "    return frequency_dict\n",
        "\n",
        "# Input the list of words\n",
        "words = input(\"Enter a list of words separated by spaces: \").split()\n",
        "\n",
        "# Call the function to get the dictionary of word frequencies\n",
        "frequencies = word_frequencies(words)\n",
        "\n",
        "print(\"Word frequencies:\", frequencies)\n",
        "\n"
      ],
      "metadata": {
        "id": "Zh0UO6k5ikC8"
      },
      "execution_count": null,
      "outputs": []
    },
    {
      "cell_type": "code",
      "source": [
        "# Q32) Write a code that takes two dictionaries as input and merges them into  a single dictionary. If there are  common keys, the values should be added together.\n",
        "\n",
        "def merge_dictionaries(dict1, dict2):\n",
        "    # Initialize the merged dictionary\n",
        "    merged_dict = dict1.copy()  # Start with a copy of the first dictionary\n",
        "\n",
        "    # Iterate through the second dictionary\n",
        "    for key, value in dict2.items():\n",
        "        # If the key is in the merged dictionary, add the values\n",
        "        if key in merged_dict:\n",
        "            merged_dict[key] += value\n",
        "        # Otherwise, add the key-value pair to the merged dictionary\n",
        "        else:\n",
        "            merged_dict[key] = value\n",
        "\n",
        "    return merged_dict\n",
        "\n",
        "# Input the first dictionary\n",
        "dict1 = eval(input(\"Enter the first dictionary (e.g., {'a': 1, 'b': 2}): \"))\n",
        "\n",
        "# Input the second dictionary\n",
        "dict2 = eval(input(\"Enter the second dictionary (e.g., {'b': 3, 'c': 4}): \"))\n",
        "\n",
        "# Call the function to merge the dictionaries\n",
        "merged_dict = merge_dictionaries(dict1, dict2)\n",
        "\n",
        "print(\"Merged dictionary:\", merged_dict)\n"
      ],
      "metadata": {
        "id": "ONoGCLqKjhe1"
      },
      "execution_count": null,
      "outputs": []
    },
    {
      "cell_type": "code",
      "source": [
        "# Q33) Write a code to access a value in a nested dictionary. The function should take the dictionary and a list of keys as input and return the corresponding value. If any of the keys do not exist in the dictionary the function should return None.\n",
        "\n",
        "def get_nested_value(nested_dict, keys):\n",
        "    current_dict = nested_dict\n",
        "\n",
        "    # Iterate through the list of keys\n",
        "    for key in keys:\n",
        "        # Check if the key exists in the current level of the dictionary\n",
        "        if key in current_dict:\n",
        "            current_dict = current_dict[key]\n",
        "        else:\n",
        "            return None  # Return None if the key does not exist\n",
        "\n",
        "    return current_dict\n",
        "\n",
        "# Example nested dictionary\n",
        "nested_dict = {\n",
        "    'a': {\n",
        "        'b': {\n",
        "            'c': 42\n",
        "        }\n",
        "    },\n",
        "    'd': {\n",
        "        'e': 99\n",
        "    }\n",
        "}\n",
        "\n",
        "# Input the list of keys\n",
        "keys = input(\"Enter the list of keys separated by spaces: \").split()\n",
        "\n",
        "# Call the function to get the nested value\n",
        "value = get_nested_value(nested_dict, keys)\n",
        "\n",
        "print(\"Value:\", value)\n"
      ],
      "metadata": {
        "id": "doBZnrszkPqV"
      },
      "execution_count": null,
      "outputs": []
    },
    {
      "cell_type": "code",
      "source": [
        "# Q34) Write a code that takes a dictionary as input and returns a sorted version of it based on the values. You can choose whatever to sort in ascending or descinding order.\n",
        "\n",
        "\n",
        "def sort_dictionary_by_values(input_dict, descending=False):\n",
        "    # Sort the dictionary by its values\n",
        "    sorted_dict = dict(sorted(input_dict.items(), key=lambda item: item[1], reverse=descending))\n",
        "    return sorted_dict\n",
        "\n",
        "# Input the dictionary\n",
        "input_dict = eval(input(\"Enter a dictionary (e.g., {'a': 3, 'b': 1, 'c': 2}): \"))\n",
        "\n",
        "# Call the function to sort the dictionary\n",
        "sorted_dict = sort_dictionary_by_values(input_dict)\n",
        "\n",
        "print(\"Sorted dictionary:\", sorted_dict)\n"
      ],
      "metadata": {
        "id": "IpKxvGxKsOlw"
      },
      "execution_count": null,
      "outputs": []
    },
    {
      "cell_type": "code",
      "source": [
        "# Q35) Write a code that inverts a dictionary swapping keys and values. Ensure that the inverted dictionary  correctly handles cases where multiple keys have the same value by storing the keys as a list in the  inverted dictionary.\n",
        "\n",
        "def invert_dictionary(input_dict):\n",
        "    inverted_dict = {}\n",
        "\n",
        "    # Iterate over each key-value pair in the input dictionary\n",
        "    for key, value in input_dict.items():\n",
        "        # If the value is already a key in the inverted dictionary\n",
        "        if value in inverted_dict:\n",
        "            inverted_dict[value].append(key)  # Append the key to the list of keys\n",
        "        else:\n",
        "            inverted_dict[value] = [key]  # Create a new list with the current key\n",
        "\n",
        "    return inverted_dict\n",
        "\n",
        "# Input the dictionary\n",
        "input_dict = eval(input(\"Enter a dictionary (e.g., {'a': 1, 'b': 2, 'c': 1}): \"))\n",
        "\n",
        "# Call the function to invert the dictionary\n",
        "inverted_dict = invert_dictionary(input_dict)\n",
        "\n",
        "print(\"Inverted dictionary:\", inverted_dict)\n"
      ],
      "metadata": {
        "id": "Jr_lWDTEtE2o"
      },
      "execution_count": null,
      "outputs": []
    }
  ]
}